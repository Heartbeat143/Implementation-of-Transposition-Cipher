{
  "nbformat": 4,
  "nbformat_minor": 0,
  "metadata": {
    "colab": {
      "name": "week2_tast4_72_CNS.ipynb",
      "provenance": [],
      "collapsed_sections": [],
      "authorship_tag": "ABX9TyNrmsuHfphawdgPhCS+NqI9",
      "include_colab_link": true
    },
    "kernelspec": {
      "name": "python3",
      "display_name": "Python 3"
    }
  },
  "cells": [
    {
      "cell_type": "markdown",
      "metadata": {
        "id": "view-in-github",
        "colab_type": "text"
      },
      "source": [
        "<a href=\"https://colab.research.google.com/github/Heartbeat143/Implementation-of-Transposition-Cipher/blob/master/Columnar_transposition_cipher.ipynb\" target=\"_parent\"><img src=\"https://colab.research.google.com/assets/colab-badge.svg\" alt=\"Open In Colab\"/></a>"
      ]
    },
    {
      "cell_type": "markdown",
      "metadata": {
        "id": "2lVIPIxbSuEk",
        "colab_type": "text"
      },
      "source": [
        "## ***Implementation of Transposition Cipher***\n",
        "(Columnar Transposition Cipher)"
      ]
    },
    {
      "cell_type": "markdown",
      "metadata": {
        "id": "TE6DLENASuRY",
        "colab_type": "text"
      },
      "source": [
        "# User input and Preprocessing"
      ]
    },
    {
      "cell_type": "code",
      "metadata": {
        "id": "qSaD0_tKS67I",
        "colab_type": "code",
        "colab": {
          "base_uri": "https://localhost:8080/",
          "height": 52
        },
        "outputId": "d17a9902-f221-4345-807f-00d6bbb76270"
      },
      "source": [
        "import math\n",
        "key=input(\"Enter keyword text (Contains unique letters only): \").lower().replace(\" \", \"\")\n",
        "plain_text = input(\"Enter plain text (Letters only): \").lower().replace(\" \", \"\")\n",
        "\n",
        "len_key = len(key)\n",
        "len_plain = len(plain_text)\n",
        "row = int(math.ceil(len_plain / len_key))\n",
        "matrix = [ ['X']*len_key for i in range(row) ]\n",
        "\n",
        "# print(matrix)"
      ],
      "execution_count": 10,
      "outputs": [
        {
          "output_type": "stream",
          "text": [
            "Enter keyword text (Contains unique letters only): sukhdev\n",
            "Enter plain text (Letters only): hello guys yellow raam kaam shyam \n"
          ],
          "name": "stdout"
        }
      ]
    },
    {
      "cell_type": "markdown",
      "metadata": {
        "id": "6dsFV2SVUE8E",
        "colab_type": "text"
      },
      "source": [
        "# Encryption"
      ]
    },
    {
      "cell_type": "code",
      "metadata": {
        "id": "TVH66qfDUH4s",
        "colab_type": "code",
        "colab": {
          "base_uri": "https://localhost:8080/",
          "height": 69
        },
        "outputId": "f1605296-4fe3-4930-fee5-dce7c70daa94"
      },
      "source": [
        "t = 0\n",
        "for r in range(row):\n",
        "  for c,ch in enumerate(plain_text[t : t+ len_key]):\n",
        "    matrix[r][c] = ch\n",
        "  t += len_key\n",
        "\n",
        "# print(matrix)\n",
        "sort_order = sorted([(ch,i) for i,ch in enumerate(key)])  #to make alphabetically order of chars\n",
        "# print(sort_order)\n",
        "\n",
        "cipher_text = ''\n",
        "for ch,c in sort_order:\n",
        "  for r in range(row):\n",
        "    cipher_text += matrix[r][c]\n",
        "  \n",
        "print(\"Encryption\")\n",
        "print(\"Plain text is :\",plain_text)\n",
        "print(\"Cipher text is:\",cipher_text)"
      ],
      "execution_count": 11,
      "outputs": [
        {
          "output_type": "stream",
          "text": [
            "Encryption\n",
            "Plain text is : helloguysyellowraamkaamshyam\n",
            "Cipher text is: olmyglkaleahlyashywaesrmuoam\n"
          ],
          "name": "stdout"
        }
      ]
    },
    {
      "cell_type": "markdown",
      "metadata": {
        "id": "MjMN7V90e8Nq",
        "colab_type": "text"
      },
      "source": [
        "# Decryption\n",
        "When we know KEYWORD and CIPHER TEXT, decrypting cipher_text into original plain_text"
      ]
    },
    {
      "cell_type": "code",
      "metadata": {
        "id": "McDKverUe-iJ",
        "colab_type": "code",
        "colab": {
          "base_uri": "https://localhost:8080/",
          "height": 69
        },
        "outputId": "3f7cd19a-82fa-4b78-fc15-00b1017b31bd"
      },
      "source": [
        "\n",
        "\n",
        "matrix_new = [ ['X']*len_key for i in range(row) ]\n",
        "key_order = [ key.index(ch) for ch in sorted(list(key))]  #to make original key order when we know keyword\n",
        "# print(key_order)\n",
        "\n",
        "t = 0\n",
        "for c in key_order:\n",
        "  for r,ch in enumerate(cipher_text[t : t+ row]):\n",
        "    matrix_new[r][c] = ch\n",
        "  t += row\n",
        "# print(matrix_new) \n",
        "\n",
        "p_text = ''\n",
        "for r in range(row):\n",
        "  for c in range(len_key):\n",
        "    p_text += matrix_new[r][c] if matrix_new[r][c] != 'X' else ''\n",
        "\n",
        "print(\"Decryption\")\n",
        "print(\"Cipher text is:\",cipher_text)\n",
        "print(\"Plain text is :\",p_text)"
      ],
      "execution_count": 12,
      "outputs": [
        {
          "output_type": "stream",
          "text": [
            "Decryption\n",
            "Cipher text is: olmyglkaleahlyashywaesrmuoam\n",
            "Plain text is : helloguysyellowraamkaamshyam\n"
          ],
          "name": "stdout"
        }
      ]
    }
  ]
}